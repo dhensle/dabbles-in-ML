{
 "cells": [
  {
   "cell_type": "code",
   "execution_count": 1,
   "metadata": {},
   "outputs": [],
   "source": [
    "from __future__ import print_function\n",
    "import math\n",
    "from IPython import display\n",
    "from matplotlib import cm\n",
    "from matplotlib import gridspec\n",
    "from matplotlib import pyplot as plt\n",
    "import numpy as np\n",
    "import pandas as pd\n",
    "from sklearn import metrics\n",
    "import tensorflow as tf\n",
    "from tensorflow.python.data import Dataset\n",
    "\n",
    "tf.logging.set_verbosity(tf.logging.ERROR)\n",
    "pd.options.display.max_rows = 10\n",
    "pd.options.display.float_format = '{:.1f}'.format"
   ]
  },
  {
   "cell_type": "code",
   "execution_count": 2,
   "metadata": {},
   "outputs": [],
   "source": [
    "california_housing_dataframe = pd.read_csv(\n",
    "    \"https://download.mlcc.google.com/mledu-datasets/california_housing_train.csv\", sep=\",\")"
   ]
  },
  {
   "cell_type": "code",
   "execution_count": 3,
   "metadata": {},
   "outputs": [
    {
     "data": {
      "text/html": [
       "<div>\n",
       "<style scoped>\n",
       "    .dataframe tbody tr th:only-of-type {\n",
       "        vertical-align: middle;\n",
       "    }\n",
       "\n",
       "    .dataframe tbody tr th {\n",
       "        vertical-align: top;\n",
       "    }\n",
       "\n",
       "    .dataframe thead th {\n",
       "        text-align: right;\n",
       "    }\n",
       "</style>\n",
       "<table border=\"1\" class=\"dataframe\">\n",
       "  <thead>\n",
       "    <tr style=\"text-align: right;\">\n",
       "      <th></th>\n",
       "      <th>longitude</th>\n",
       "      <th>latitude</th>\n",
       "      <th>housing_median_age</th>\n",
       "      <th>total_rooms</th>\n",
       "      <th>total_bedrooms</th>\n",
       "      <th>population</th>\n",
       "      <th>households</th>\n",
       "      <th>median_income</th>\n",
       "      <th>median_house_value</th>\n",
       "    </tr>\n",
       "  </thead>\n",
       "  <tbody>\n",
       "    <tr>\n",
       "      <th>16233</th>\n",
       "      <td>-122.5</td>\n",
       "      <td>37.7</td>\n",
       "      <td>47.0</td>\n",
       "      <td>2382.0</td>\n",
       "      <td>392.0</td>\n",
       "      <td>867.0</td>\n",
       "      <td>376.0</td>\n",
       "      <td>5.3</td>\n",
       "      <td>371.5</td>\n",
       "    </tr>\n",
       "    <tr>\n",
       "      <th>53</th>\n",
       "      <td>-115.5</td>\n",
       "      <td>33.0</td>\n",
       "      <td>32.0</td>\n",
       "      <td>1615.0</td>\n",
       "      <td>382.0</td>\n",
       "      <td>1307.0</td>\n",
       "      <td>345.0</td>\n",
       "      <td>1.5</td>\n",
       "      <td>58.6</td>\n",
       "    </tr>\n",
       "    <tr>\n",
       "      <th>10675</th>\n",
       "      <td>-120.6</td>\n",
       "      <td>35.1</td>\n",
       "      <td>39.0</td>\n",
       "      <td>1656.0</td>\n",
       "      <td>333.0</td>\n",
       "      <td>866.0</td>\n",
       "      <td>317.0</td>\n",
       "      <td>2.9</td>\n",
       "      <td>195.2</td>\n",
       "    </tr>\n",
       "    <tr>\n",
       "      <th>10074</th>\n",
       "      <td>-119.8</td>\n",
       "      <td>36.7</td>\n",
       "      <td>25.0</td>\n",
       "      <td>1717.0</td>\n",
       "      <td>542.0</td>\n",
       "      <td>1343.0</td>\n",
       "      <td>471.0</td>\n",
       "      <td>0.8</td>\n",
       "      <td>51.8</td>\n",
       "    </tr>\n",
       "    <tr>\n",
       "      <th>8109</th>\n",
       "      <td>-118.4</td>\n",
       "      <td>34.2</td>\n",
       "      <td>36.0</td>\n",
       "      <td>1488.0</td>\n",
       "      <td>313.0</td>\n",
       "      <td>1221.0</td>\n",
       "      <td>296.0</td>\n",
       "      <td>4.0</td>\n",
       "      <td>171.4</td>\n",
       "    </tr>\n",
       "    <tr>\n",
       "      <th>...</th>\n",
       "      <td>...</td>\n",
       "      <td>...</td>\n",
       "      <td>...</td>\n",
       "      <td>...</td>\n",
       "      <td>...</td>\n",
       "      <td>...</td>\n",
       "      <td>...</td>\n",
       "      <td>...</td>\n",
       "      <td>...</td>\n",
       "    </tr>\n",
       "    <tr>\n",
       "      <th>2835</th>\n",
       "      <td>-117.7</td>\n",
       "      <td>34.1</td>\n",
       "      <td>26.0</td>\n",
       "      <td>6459.0</td>\n",
       "      <td>894.0</td>\n",
       "      <td>2487.0</td>\n",
       "      <td>885.0</td>\n",
       "      <td>6.2</td>\n",
       "      <td>261.8</td>\n",
       "    </tr>\n",
       "    <tr>\n",
       "      <th>4307</th>\n",
       "      <td>-118.0</td>\n",
       "      <td>33.9</td>\n",
       "      <td>34.0</td>\n",
       "      <td>1653.0</td>\n",
       "      <td>292.0</td>\n",
       "      <td>1003.0</td>\n",
       "      <td>310.0</td>\n",
       "      <td>4.6</td>\n",
       "      <td>203.4</td>\n",
       "    </tr>\n",
       "    <tr>\n",
       "      <th>897</th>\n",
       "      <td>-117.1</td>\n",
       "      <td>32.8</td>\n",
       "      <td>20.0</td>\n",
       "      <td>1989.0</td>\n",
       "      <td>508.0</td>\n",
       "      <td>1452.0</td>\n",
       "      <td>462.0</td>\n",
       "      <td>2.0</td>\n",
       "      <td>118.3</td>\n",
       "    </tr>\n",
       "    <tr>\n",
       "      <th>3921</th>\n",
       "      <td>-118.0</td>\n",
       "      <td>34.1</td>\n",
       "      <td>28.0</td>\n",
       "      <td>2831.0</td>\n",
       "      <td>552.0</td>\n",
       "      <td>2330.0</td>\n",
       "      <td>557.0</td>\n",
       "      <td>4.0</td>\n",
       "      <td>173.1</td>\n",
       "    </tr>\n",
       "    <tr>\n",
       "      <th>13505</th>\n",
       "      <td>-122.0</td>\n",
       "      <td>37.5</td>\n",
       "      <td>22.0</td>\n",
       "      <td>5811.0</td>\n",
       "      <td>1125.0</td>\n",
       "      <td>3215.0</td>\n",
       "      <td>1086.0</td>\n",
       "      <td>4.4</td>\n",
       "      <td>223.5</td>\n",
       "    </tr>\n",
       "  </tbody>\n",
       "</table>\n",
       "<p>17000 rows × 9 columns</p>\n",
       "</div>"
      ],
      "text/plain": [
       "       longitude  latitude  housing_median_age  total_rooms  total_bedrooms  \\\n",
       "16233     -122.5      37.7                47.0       2382.0           392.0   \n",
       "53        -115.5      33.0                32.0       1615.0           382.0   \n",
       "10675     -120.6      35.1                39.0       1656.0           333.0   \n",
       "10074     -119.8      36.7                25.0       1717.0           542.0   \n",
       "8109      -118.4      34.2                36.0       1488.0           313.0   \n",
       "...          ...       ...                 ...          ...             ...   \n",
       "2835      -117.7      34.1                26.0       6459.0           894.0   \n",
       "4307      -118.0      33.9                34.0       1653.0           292.0   \n",
       "897       -117.1      32.8                20.0       1989.0           508.0   \n",
       "3921      -118.0      34.1                28.0       2831.0           552.0   \n",
       "13505     -122.0      37.5                22.0       5811.0          1125.0   \n",
       "\n",
       "       population  households  median_income  median_house_value  \n",
       "16233       867.0       376.0            5.3               371.5  \n",
       "53         1307.0       345.0            1.5                58.6  \n",
       "10675       866.0       317.0            2.9               195.2  \n",
       "10074      1343.0       471.0            0.8                51.8  \n",
       "8109       1221.0       296.0            4.0               171.4  \n",
       "...           ...         ...            ...                 ...  \n",
       "2835       2487.0       885.0            6.2               261.8  \n",
       "4307       1003.0       310.0            4.6               203.4  \n",
       "897        1452.0       462.0            2.0               118.3  \n",
       "3921       2330.0       557.0            4.0               173.1  \n",
       "13505      3215.0      1086.0            4.4               223.5  \n",
       "\n",
       "[17000 rows x 9 columns]"
      ]
     },
     "execution_count": 3,
     "metadata": {},
     "output_type": "execute_result"
    }
   ],
   "source": [
    "california_housing_dataframe = california_housing_dataframe.reindex(\n",
    "    np.random.permutation(california_housing_dataframe.index))\n",
    "california_housing_dataframe['median_house_value'] /= 1000.0\n",
    "california_housing_dataframe"
   ]
  },
  {
   "cell_type": "code",
   "execution_count": 4,
   "metadata": {},
   "outputs": [
    {
     "data": {
      "text/html": [
       "<div>\n",
       "<style scoped>\n",
       "    .dataframe tbody tr th:only-of-type {\n",
       "        vertical-align: middle;\n",
       "    }\n",
       "\n",
       "    .dataframe tbody tr th {\n",
       "        vertical-align: top;\n",
       "    }\n",
       "\n",
       "    .dataframe thead th {\n",
       "        text-align: right;\n",
       "    }\n",
       "</style>\n",
       "<table border=\"1\" class=\"dataframe\">\n",
       "  <thead>\n",
       "    <tr style=\"text-align: right;\">\n",
       "      <th></th>\n",
       "      <th>longitude</th>\n",
       "      <th>latitude</th>\n",
       "      <th>housing_median_age</th>\n",
       "      <th>total_rooms</th>\n",
       "      <th>total_bedrooms</th>\n",
       "      <th>population</th>\n",
       "      <th>households</th>\n",
       "      <th>median_income</th>\n",
       "      <th>median_house_value</th>\n",
       "    </tr>\n",
       "  </thead>\n",
       "  <tbody>\n",
       "    <tr>\n",
       "      <th>count</th>\n",
       "      <td>17000.0</td>\n",
       "      <td>17000.0</td>\n",
       "      <td>17000.0</td>\n",
       "      <td>17000.0</td>\n",
       "      <td>17000.0</td>\n",
       "      <td>17000.0</td>\n",
       "      <td>17000.0</td>\n",
       "      <td>17000.0</td>\n",
       "      <td>17000.0</td>\n",
       "    </tr>\n",
       "    <tr>\n",
       "      <th>mean</th>\n",
       "      <td>-119.6</td>\n",
       "      <td>35.6</td>\n",
       "      <td>28.6</td>\n",
       "      <td>2643.7</td>\n",
       "      <td>539.4</td>\n",
       "      <td>1429.6</td>\n",
       "      <td>501.2</td>\n",
       "      <td>3.9</td>\n",
       "      <td>207.3</td>\n",
       "    </tr>\n",
       "    <tr>\n",
       "      <th>std</th>\n",
       "      <td>2.0</td>\n",
       "      <td>2.1</td>\n",
       "      <td>12.6</td>\n",
       "      <td>2179.9</td>\n",
       "      <td>421.5</td>\n",
       "      <td>1147.9</td>\n",
       "      <td>384.5</td>\n",
       "      <td>1.9</td>\n",
       "      <td>116.0</td>\n",
       "    </tr>\n",
       "    <tr>\n",
       "      <th>min</th>\n",
       "      <td>-124.3</td>\n",
       "      <td>32.5</td>\n",
       "      <td>1.0</td>\n",
       "      <td>2.0</td>\n",
       "      <td>1.0</td>\n",
       "      <td>3.0</td>\n",
       "      <td>1.0</td>\n",
       "      <td>0.5</td>\n",
       "      <td>15.0</td>\n",
       "    </tr>\n",
       "    <tr>\n",
       "      <th>25%</th>\n",
       "      <td>-121.8</td>\n",
       "      <td>33.9</td>\n",
       "      <td>18.0</td>\n",
       "      <td>1462.0</td>\n",
       "      <td>297.0</td>\n",
       "      <td>790.0</td>\n",
       "      <td>282.0</td>\n",
       "      <td>2.6</td>\n",
       "      <td>119.4</td>\n",
       "    </tr>\n",
       "    <tr>\n",
       "      <th>50%</th>\n",
       "      <td>-118.5</td>\n",
       "      <td>34.2</td>\n",
       "      <td>29.0</td>\n",
       "      <td>2127.0</td>\n",
       "      <td>434.0</td>\n",
       "      <td>1167.0</td>\n",
       "      <td>409.0</td>\n",
       "      <td>3.5</td>\n",
       "      <td>180.4</td>\n",
       "    </tr>\n",
       "    <tr>\n",
       "      <th>75%</th>\n",
       "      <td>-118.0</td>\n",
       "      <td>37.7</td>\n",
       "      <td>37.0</td>\n",
       "      <td>3151.2</td>\n",
       "      <td>648.2</td>\n",
       "      <td>1721.0</td>\n",
       "      <td>605.2</td>\n",
       "      <td>4.8</td>\n",
       "      <td>265.0</td>\n",
       "    </tr>\n",
       "    <tr>\n",
       "      <th>max</th>\n",
       "      <td>-114.3</td>\n",
       "      <td>42.0</td>\n",
       "      <td>52.0</td>\n",
       "      <td>37937.0</td>\n",
       "      <td>6445.0</td>\n",
       "      <td>35682.0</td>\n",
       "      <td>6082.0</td>\n",
       "      <td>15.0</td>\n",
       "      <td>500.0</td>\n",
       "    </tr>\n",
       "  </tbody>\n",
       "</table>\n",
       "</div>"
      ],
      "text/plain": [
       "       longitude  latitude  housing_median_age  total_rooms  total_bedrooms  \\\n",
       "count    17000.0   17000.0             17000.0      17000.0         17000.0   \n",
       "mean      -119.6      35.6                28.6       2643.7           539.4   \n",
       "std          2.0       2.1                12.6       2179.9           421.5   \n",
       "min       -124.3      32.5                 1.0          2.0             1.0   \n",
       "25%       -121.8      33.9                18.0       1462.0           297.0   \n",
       "50%       -118.5      34.2                29.0       2127.0           434.0   \n",
       "75%       -118.0      37.7                37.0       3151.2           648.2   \n",
       "max       -114.3      42.0                52.0      37937.0          6445.0   \n",
       "\n",
       "       population  households  median_income  median_house_value  \n",
       "count     17000.0     17000.0        17000.0             17000.0  \n",
       "mean       1429.6       501.2            3.9               207.3  \n",
       "std        1147.9       384.5            1.9               116.0  \n",
       "min           3.0         1.0            0.5                15.0  \n",
       "25%         790.0       282.0            2.6               119.4  \n",
       "50%        1167.0       409.0            3.5               180.4  \n",
       "75%        1721.0       605.2            4.8               265.0  \n",
       "max       35682.0      6082.0           15.0               500.0  "
      ]
     },
     "execution_count": 4,
     "metadata": {},
     "output_type": "execute_result"
    }
   ],
   "source": [
    "california_housing_dataframe.describe()"
   ]
  },
  {
   "cell_type": "code",
   "execution_count": 5,
   "metadata": {},
   "outputs": [],
   "source": [
    "my_feature = california_housing_dataframe[['total_rooms']]\n",
    "feature_columns = [tf.feature_column.numeric_column('total_rooms')]"
   ]
  },
  {
   "cell_type": "code",
   "execution_count": 6,
   "metadata": {},
   "outputs": [],
   "source": [
    "targets = california_housing_dataframe['median_house_value']"
   ]
  },
  {
   "cell_type": "code",
   "execution_count": 7,
   "metadata": {},
   "outputs": [
    {
     "data": {
      "image/png": "[encoded data removed]",
      "text/plain": [
       "<Figure size 432x288 with 1 Axes>"
      ]
     },
     "metadata": {
      "needs_background": "light"
     },
     "output_type": "display_data"
    }
   ],
   "source": [
    "rooms_value_hist = plt.hist2d(california_housing_dataframe['total_rooms'], \n",
    "                               california_housing_dataframe['median_house_value'],\n",
    "                              bins = 200,\n",
    "                             range=[[0,5000],[0,600]])"
   ]
  },
  {
   "cell_type": "code",
   "execution_count": 8,
   "metadata": {},
   "outputs": [
    {
     "data": {
      "image/png": "[encoded data removed]",
      "text/plain": [
       "<Figure size 432x288 with 1 Axes>"
      ]
     },
     "metadata": {
      "needs_background": "light"
     },
     "output_type": "display_data"
    }
   ],
   "source": [
    "rooms_value_scatter = plt.scatter(california_housing_dataframe['total_rooms'], \n",
    "                                california_housing_dataframe['median_house_value'],\n",
    "                                marker = 'o')\n",
    "plt.xscale('log')"
   ]
  },
  {
   "cell_type": "code",
   "execution_count": 9,
   "metadata": {},
   "outputs": [
    {
     "data": {
      "text/plain": [
       "array([[<matplotlib.axes._subplots.AxesSubplot object at 0x1a344b7b38>]],\n",
       "      dtype=object)"
      ]
     },
     "execution_count": 9,
     "metadata": {},
     "output_type": "execute_result"
    },
    {
     "data": {
      "image/png": "[encoded data removed]",
      "text/plain": [
       "<Figure size 432x288 with 1 Axes>"
      ]
     },
     "metadata": {
      "needs_background": "light"
     },
     "output_type": "display_data"
    }
   ],
   "source": [
    "california_housing_dataframe.hist('median_house_value',bins = 200)"
   ]
  },
  {
   "cell_type": "code",
   "execution_count": 10,
   "metadata": {},
   "outputs": [
    {
     "name": "stdout",
     "output_type": "stream",
     "text": [
      "\n",
      "WARNING: The TensorFlow contrib module will not be included in TensorFlow 2.0.\n",
      "For more information, please see:\n",
      "  * https://github.com/tensorflow/community/blob/master/rfcs/20180907-contrib-sunset.md\n",
      "  * https://github.com/tensorflow/addons\n",
      "If you depend on functionality not listed there, please file an issue.\n",
      "\n"
     ]
    }
   ],
   "source": [
    "my_optimizer = tf.train.GradientDescentOptimizer(learning_rate = .000001)\n",
    "my_optimizer = tf.contrib.estimator.clip_gradients_by_norm(my_optimizer,5.0)\n",
    "\n",
    "linear_regressor = tf.estimator.LinearRegressor(\n",
    "    feature_columns=feature_columns,\n",
    "    optimizer=my_optimizer)"
   ]
  },
  {
   "cell_type": "code",
   "execution_count": 11,
   "metadata": {},
   "outputs": [],
   "source": [
    "def my_input_fn(features, targets, batch_size=1, shuffle=True, num_epochs=None):\n",
    "    features = {key:np.array(value) for key,value in dict(features).items()}\n",
    "    ds = Dataset.from_tensor_slices((features,targets))\n",
    "    ds = ds.batch(batch_size).repeat(num_epochs)\n",
    "    if shuffle:\n",
    "        ds = ds.shuffle(buffer_size=10000)\n",
    "        \n",
    "    features,labels = ds.make_one_shot_iterator().get_next()\n",
    "    return features,labels"
   ]
  },
  {
   "cell_type": "code",
   "execution_count": 12,
   "metadata": {},
   "outputs": [],
   "source": [
    "_ = linear_regressor.train(\n",
    "    input_fn = lambda:my_input_fn(my_feature,targets),\n",
    "    steps = 100)"
   ]
  },
  {
   "cell_type": "code",
   "execution_count": 13,
   "metadata": {},
   "outputs": [
    {
     "name": "stdout",
     "output_type": "stream",
     "text": [
      "MSE: 55846.894\n",
      "RMS: 236.319\n"
     ]
    }
   ],
   "source": [
    "prediction_input_fn = lambda:my_input_fn(my_feature, targets, num_epochs=1, shuffle=False)\n",
    "predictions = linear_regressor.predict(input_fn = prediction_input_fn)\n",
    "predictions = np.array([item['predictions'][0] for item in predictions])\n",
    "\n",
    "mean_squared_error = metrics.mean_squared_error(predictions, targets)\n",
    "root_mean_squared_error = math.sqrt(mean_squared_error)\n",
    "print(\"MSE: %0.3f\"% mean_squared_error)\n",
    "print(\"RMS: %0.3f\"% root_mean_squared_error)"
   ]
  },
  {
   "cell_type": "code",
   "execution_count": 14,
   "metadata": {},
   "outputs": [
    {
     "name": "stdout",
     "output_type": "stream",
     "text": [
      "Min: 14.999\n",
      "Max: 500.001\n",
      "Diff: 485.002\n",
      "RMS: 236.319\n"
     ]
    }
   ],
   "source": [
    "min_house_value = california_housing_dataframe['median_house_value'].min()\n",
    "max_house_value = california_housing_dataframe['median_house_value'].max()\n",
    "min_max_diff = max_house_value - min_house_value\n",
    "\n",
    "print('Min: %.3f'% min_house_value)\n",
    "print('Max: %.3f'% max_house_value)\n",
    "print('Diff: %.3f' % min_max_diff)\n",
    "print(\"RMS: %0.3f\"% root_mean_squared_error)"
   ]
  },
  {
   "cell_type": "code",
   "execution_count": 15,
   "metadata": {},
   "outputs": [
    {
     "data": {
      "text/html": [
       "<div>\n",
       "<style scoped>\n",
       "    .dataframe tbody tr th:only-of-type {\n",
       "        vertical-align: middle;\n",
       "    }\n",
       "\n",
       "    .dataframe tbody tr th {\n",
       "        vertical-align: top;\n",
       "    }\n",
       "\n",
       "    .dataframe thead th {\n",
       "        text-align: right;\n",
       "    }\n",
       "</style>\n",
       "<table border=\"1\" class=\"dataframe\">\n",
       "  <thead>\n",
       "    <tr style=\"text-align: right;\">\n",
       "      <th></th>\n",
       "      <th>predictions</th>\n",
       "      <th>targets</th>\n",
       "    </tr>\n",
       "  </thead>\n",
       "  <tbody>\n",
       "    <tr>\n",
       "      <th>count</th>\n",
       "      <td>17000.0</td>\n",
       "      <td>17000.0</td>\n",
       "    </tr>\n",
       "    <tr>\n",
       "      <th>mean</th>\n",
       "      <td>1.3</td>\n",
       "      <td>207.3</td>\n",
       "    </tr>\n",
       "    <tr>\n",
       "      <th>std</th>\n",
       "      <td>1.1</td>\n",
       "      <td>116.0</td>\n",
       "    </tr>\n",
       "    <tr>\n",
       "      <th>min</th>\n",
       "      <td>0.0</td>\n",
       "      <td>15.0</td>\n",
       "    </tr>\n",
       "    <tr>\n",
       "      <th>25%</th>\n",
       "      <td>0.7</td>\n",
       "      <td>119.4</td>\n",
       "    </tr>\n",
       "    <tr>\n",
       "      <th>50%</th>\n",
       "      <td>1.1</td>\n",
       "      <td>180.4</td>\n",
       "    </tr>\n",
       "    <tr>\n",
       "      <th>75%</th>\n",
       "      <td>1.6</td>\n",
       "      <td>265.0</td>\n",
       "    </tr>\n",
       "    <tr>\n",
       "      <th>max</th>\n",
       "      <td>19.0</td>\n",
       "      <td>500.0</td>\n",
       "    </tr>\n",
       "  </tbody>\n",
       "</table>\n",
       "</div>"
      ],
      "text/plain": [
       "       predictions  targets\n",
       "count      17000.0  17000.0\n",
       "mean           1.3    207.3\n",
       "std            1.1    116.0\n",
       "min            0.0     15.0\n",
       "25%            0.7    119.4\n",
       "50%            1.1    180.4\n",
       "75%            1.6    265.0\n",
       "max           19.0    500.0"
      ]
     },
     "execution_count": 15,
     "metadata": {},
     "output_type": "execute_result"
    }
   ],
   "source": [
    "calibration_data = pd.DataFrame()\n",
    "calibration_data['predictions'] = pd.Series(predictions)\n",
    "calibration_data['targets'] = pd.Series(targets)\n",
    "calibration_data.describe()"
   ]
  },
  {
   "cell_type": "code",
   "execution_count": 16,
   "metadata": {},
   "outputs": [],
   "source": [
    "sample = california_housing_dataframe.sample(n=100)"
   ]
  },
  {
   "cell_type": "code",
   "execution_count": 17,
   "metadata": {},
   "outputs": [
    {
     "data": {
      "image/png": "[encoded data removed]",
      "text/plain": [
       "<Figure size 432x288 with 1 Axes>"
      ]
     },
     "metadata": {
      "needs_background": "light"
     },
     "output_type": "display_data"
    }
   ],
   "source": [
    "x_0 = sample['total_rooms'].min()\n",
    "x_1 = sample['total_rooms'].max()\n",
    "\n",
    "weight = linear_regressor.get_variable_value('linear/linear_model/total_rooms/weights')[0]\n",
    "bias = linear_regressor.get_variable_value('linear/linear_model/bias_weights')\n",
    "\n",
    "y_0 = weight*x_0 + bias\n",
    "y_1 = weight*x_1 + bias\n",
    "\n",
    "plt.plot([x_0,x_1],[y_0,y_1], c='r')\n",
    "\n",
    "plt.ylabel('median_house_value')\n",
    "plt.xlabel('total_rooms')\n",
    "\n",
    "plt.scatter(sample['total_rooms'], sample['median_house_value'])\n",
    "\n",
    "plt.show()"
   ]
  },
  {
   "cell_type": "code",
   "execution_count": 20,
   "metadata": {},
   "outputs": [],
   "source": [
    "def train_model(learning_rate, steps, batch_size, input_feature='total_rooms'):\n",
    "    periods = 10\n",
    "    steps_per_period = steps/periods\n",
    "    \n",
    "    my_feature = input_feature\n",
    "    my_feature_data = california_housing_dataframe[[my_feature]]\n",
    "    my_label = 'median_house_value'\n",
    "    targets = california_housing_dataframe[my_label]\n",
    "    \n",
    "    feature_colums = [tf.feature_column.numeric_column(my_feature)]\n",
    "    \n",
    "    training_input_fn = lambda:my_input_fn(my_feature_data, targets, batch_size=batch_size)\n",
    "    prediction_input_fn = lambda:my_input_fn(my_feature_data, targets, num_epochs=1,shuffle=False)\n",
    "    \n",
    "    my_optimizer = tf.train.GradientDescentOptimizer(learning_rate=learning_rate)\n",
    "    my_optimizer = tf.contrib.estimator.clip_gradients_by_norm(my_optimizer,5.0)\n",
    "    linear_regressor = tf.estimator.LinearRegressor(\n",
    "        feature_columns=feature_columns,\n",
    "        optimizer=my_optimizer\n",
    "    )\n",
    "    \n",
    "    plt.figure(figsize=(15,6))\n",
    "    plt.subplot(1,2,1)\n",
    "    plt.title('Learned Line by Period')\n",
    "    plt.ylabel(my_label)\n",
    "    plt.xlabel(my_feature)\n",
    "    sample = california_housing_dataframe.sample(n=300)\n",
    "    plt.scatter(sample[my_feature],sample[my_label])\n",
    "    colors = [cm.coolwarm(x) for x in np.linspace(-1,1,periods)]\n",
    "    \n",
    "    print(\"Training model...\")\n",
    "    print(\"RMSE (on training data):\")\n",
    "    root_mean_squared_errors = []\n",
    "    for period in range(0,periods):\n",
    "        linear_regressor.train(\n",
    "            input_fn=training_input_fn,\n",
    "            steps=steps_per_period\n",
    "        )\n",
    "        \n",
    "        predictions = linear_regressor.predict(input_fn=prediction_input_fn)\n",
    "        predictions = np.array([item['predictions'][0] for item in predictions])\n",
    "        \n",
    "        root_mean_squared_error = math.sqrt(\n",
    "            metrics.mean_squared_error(predictions,targets))\n",
    "        print(\"  period %02d : %0.2f\" % (period, root_mean_squared_error))\n",
    "        root_mean_squared_errors.append(root_mean_squared_error)\n",
    "        y_extents = np.array([0,sample[my_label].max()])\n",
    "        \n",
    "        weight = linear_regressor.get_variable_value('linear/linear_model/%s/weights' % input_feature)[0]\n",
    "        bias = linear_regressor.get_variable_value('linear/linear_model/bias_weights')\n",
    "        \n",
    "        x_extents = (y_extents - bias) / weight\n",
    "        x_extents = np.maximum(np.minimum(x_extents,sample[my_feature].max()),\n",
    "                              sample[my_feature].min())\n",
    "        y_extents = weight*x_extents + bias\n",
    "        plt.plot(x_extents, y_extents, color=colors[period])\n",
    "    print(\"Model training finished.\")\n",
    "    \n",
    "    plt.subplot(1,2,2)\n",
    "    plt.ylabel(\"RMS\")\n",
    "    plt.xlabel(\"Periods\")\n",
    "    plt.title(\"RMS vs Periods\")\n",
    "    plt.tight_layout()\n",
    "    plt.plot(root_mean_squared_errors)\n",
    "    \n",
    "    calibration_data = pd.DataFrame()\n",
    "    calibration_data['predictions'] = pd.Series(predictions)\n",
    "    calibration_data['targets'] = pd.Series(targets)\n",
    "    display.display(calibration_data.describe())\n",
    "\n",
    "    print(\"Final RMS (on training data): %02.f\" % root_mean_squared_error)\n",
    "        \n",
    "        \n",
    "    "
   ]
  },
  {
   "cell_type": "code",
   "execution_count": 21,
   "metadata": {},
   "outputs": [
    {
     "name": "stdout",
     "output_type": "stream",
     "text": [
      "Training model...\n",
      "RMSE (on training data):\n",
      "  period 00 : 225.63\n",
      "  period 01 : 214.42\n",
      "  period 02 : 204.04\n",
      "  period 03 : 194.62\n",
      "  period 04 : 186.29\n",
      "  period 05 : 186.29\n",
      "  period 06 : 179.23\n",
      "  period 07 : 173.57\n",
      "  period 08 : 169.46\n",
      "  period 09 : 167.02\n",
      "Model training finished.\n"
     ]
    },
    {
     "data": {
      "text/html": [
       "<div>\n",
       "<style scoped>\n",
       "    .dataframe tbody tr th:only-of-type {\n",
       "        vertical-align: middle;\n",
       "    }\n",
       "\n",
       "    .dataframe tbody tr th {\n",
       "        vertical-align: top;\n",
       "    }\n",
       "\n",
       "    .dataframe thead th {\n",
       "        text-align: right;\n",
       "    }\n",
       "</style>\n",
       "<table border=\"1\" class=\"dataframe\">\n",
       "  <thead>\n",
       "    <tr style=\"text-align: right;\">\n",
       "      <th></th>\n",
       "      <th>predictions</th>\n",
       "      <th>targets</th>\n",
       "    </tr>\n",
       "  </thead>\n",
       "  <tbody>\n",
       "    <tr>\n",
       "      <th>count</th>\n",
       "      <td>17000.0</td>\n",
       "      <td>17000.0</td>\n",
       "    </tr>\n",
       "    <tr>\n",
       "      <th>mean</th>\n",
       "      <td>119.0</td>\n",
       "      <td>207.3</td>\n",
       "    </tr>\n",
       "    <tr>\n",
       "      <th>std</th>\n",
       "      <td>98.1</td>\n",
       "      <td>116.0</td>\n",
       "    </tr>\n",
       "    <tr>\n",
       "      <th>min</th>\n",
       "      <td>0.1</td>\n",
       "      <td>15.0</td>\n",
       "    </tr>\n",
       "    <tr>\n",
       "      <th>25%</th>\n",
       "      <td>65.8</td>\n",
       "      <td>119.4</td>\n",
       "    </tr>\n",
       "    <tr>\n",
       "      <th>50%</th>\n",
       "      <td>95.7</td>\n",
       "      <td>180.4</td>\n",
       "    </tr>\n",
       "    <tr>\n",
       "      <th>75%</th>\n",
       "      <td>141.8</td>\n",
       "      <td>265.0</td>\n",
       "    </tr>\n",
       "    <tr>\n",
       "      <th>max</th>\n",
       "      <td>1707.2</td>\n",
       "      <td>500.0</td>\n",
       "    </tr>\n",
       "  </tbody>\n",
       "</table>\n",
       "</div>"
      ],
      "text/plain": [
       "       predictions  targets\n",
       "count      17000.0  17000.0\n",
       "mean         119.0    207.3\n",
       "std           98.1    116.0\n",
       "min            0.1     15.0\n",
       "25%           65.8    119.4\n",
       "50%           95.7    180.4\n",
       "75%          141.8    265.0\n",
       "max         1707.2    500.0"
      ]
     },
     "metadata": {},
     "output_type": "display_data"
    },
    {
     "name": "stdout",
     "output_type": "stream",
     "text": [
      "Final RMS (on training data): 167\n"
     ]
    },
    {
     "data": {
      "image/png": "[encoded data removed]",
      "text/plain": [
       "<Figure size 1080x432 with 2 Axes>"
      ]
     },
     "metadata": {
      "needs_background": "light"
     },
     "output_type": "display_data"
    }
   ],
   "source": [
    "train_model(learning_rate=.0005,\n",
    "           steps=20,\n",
    "           batch_size=5\n",
    ")"
   ]
  },
  {
   "cell_type": "code",
   "execution_count": 30,
   "metadata": {},
   "outputs": [
    {
     "ename": "IndentationError",
     "evalue": "expected an indented block (<ipython-input-30-fd965bbb49d7>, line 42)",
     "output_type": "error",
     "traceback": [
      "\u001b[0;36m  File \u001b[0;32m\"<ipython-input-30-fd965bbb49d7>\"\u001b[0;36m, line \u001b[0;32m42\u001b[0m\n\u001b[0;31m    linear_regressor.train(input_fn=training_input_fn,steps=steps_per_period)\u001b[0m\n\u001b[0m                   ^\u001b[0m\n\u001b[0;31mIndentationError\u001b[0m\u001b[0;31m:\u001b[0m expected an indented block\n"
     ]
    }
   ],
   "source": [
    "def train_model2(learning_rate, steps, batch_size, input_feature=\"total_rooms\"):\n",
    "    periods = 10\n",
    "    steps_per_period = steps / periods\n",
    "\n",
    "    my_feature = input_feature\n",
    "    my_feature_data = california_housing_dataframe[[my_feature]]\n",
    "    my_label = \"median_house_value\"\n",
    "    targets = california_housing_dataframe[my_label]\n",
    "\n",
    "    # Create feature columns.\n",
    "    feature_columns = [tf.feature_column.numeric_column(my_feature)]\n",
    "\n",
    "    # Create input functions.\n",
    "    training_input_fn = lambda:my_input_fn(my_feature_data, targets, batch_size=batch_size)\n",
    "    prediction_input_fn = lambda: my_input_fn(my_feature_data, targets, num_epochs=1, shuffle=False)\n",
    "\n",
    "    # Create a linear regressor object.\n",
    "    my_optimizer = tf.train.GradientDescentOptimizer(learning_rate=learning_rate)\n",
    "    my_optimizer = tf.contrib.estimator.clip_gradients_by_norm(my_optimizer, 5.0)\n",
    "    linear_regressor = tf.estimator.LinearRegressor(\n",
    "        feature_columns=feature_columns,\n",
    "        optimizer=my_optimizer\n",
    "    )\n",
    "\n",
    "    # Set up to plot the state of our model's line each period.\n",
    "    plt.figure(figsize=(15, 6))\n",
    "    plt.subplot(1, 2, 1)\n",
    "    plt.title(\"Learned Line by Period\")\n",
    "    plt.ylabel(my_label)\n",
    "    plt.xlabel(my_feature)\n",
    "    sample = california_housing_dataframe.sample(n=300)\n",
    "    plt.scatter(sample[my_feature], sample[my_label])\n",
    "    colors = [cm.coolwarm(x) for x in np.linspace(-1, 1, periods)]\n",
    "\n",
    "    # Train the model, but do so inside a loop so that we can periodically assess\n",
    "    # loss metrics.\n",
    "    print(\"Training model...\")\n",
    "    print(\"RMSE (on training data):\")\n",
    "    root_mean_squared_errors = []\n",
    "    for period in range (0, periods):\n",
    "        # Train the model, starting from the prior state.\n",
    "        linear_regressor.train(input_fn=training_input_fn,steps=steps_per_period)\n",
    "        # Take a break and compute predictions.\n",
    "        predictions = linear_regressor.predict(input_fn=prediction_input_fn)\n",
    "        predictions = np.array([item['predictions'][0] for item in predictions])\n",
    "\n",
    "        # Compute loss.\n",
    "        root_mean_squared_error = math.sqrt(\n",
    "            metrics.mean_squared_error(predictions, targets))\n",
    "        # Occasionally print the current loss.\n",
    "        print(\"  period %02d : %0.2f\" % (period, root_mean_squared_error))\n",
    "        # Add the loss metrics from this period to our list.\n",
    "        root_mean_squared_errors.append(root_mean_squared_error)\n",
    "        # Finally, track the weights and biases over time.\n",
    "        # Apply some math to ensure that the data and line are plotted neatly.\n",
    "        y_extents = np.array([0, sample[my_label].max()])\n",
    "\n",
    "        weight = linear_regressor.get_variable_value('linear/linear_model/%s/weights' % input_feature)[0]\n",
    "        bias = linear_regressor.get_variable_value('linear/linear_model/bias_weights')\n",
    "\n",
    "        x_extents = (y_extents - bias) / weight\n",
    "        x_extents = np.maximum(np.minimum(x_extents,\n",
    "                                          sample[my_feature].max()),\n",
    "                               sample[my_feature].min())\n",
    "        y_extents = weight * x_extents + bias\n",
    "        plt.plot(x_extents, y_extents, color=colors[period]) \n",
    "    print(\"Model training finished.\")\n",
    "\n",
    "    # Output a graph of loss metrics over periods.\n",
    "    plt.subplot(1, 2, 2)\n",
    "    plt.ylabel('RMSE')\n",
    "    plt.xlabel('Periods')\n",
    "    plt.title(\"Root Mean Squared Error vs. Periods\")\n",
    "    plt.tight_layout()\n",
    "    plt.plot(root_mean_squared_errors)\n",
    "\n",
    "    # Output a table with calibration data.\n",
    "    calibration_data = pd.DataFrame()\n",
    "    calibration_data[\"predictions\"] = pd.Series(predictions)\n",
    "    calibration_data[\"targets\"] = pd.Series(targets)\n",
    "    display.display(calibration_data.describe())\n",
    "\n",
    "    print(\"Final RMSE (on training data): %0.2f\" % root_mean_squared_error)"
   ]
  },
  {
   "cell_type": "code",
   "execution_count": 29,
   "metadata": {},
   "outputs": [
    {
     "ename": "NameError",
     "evalue": "name 'train_model2' is not defined",
     "output_type": "error",
     "traceback": [
      "\u001b[0;31m---------------------------------------------------------------------------\u001b[0m",
      "\u001b[0;31mNameError\u001b[0m                                 Traceback (most recent call last)",
      "\u001b[0;32m<ipython-input-29-49e6c8cc525f>\u001b[0m in \u001b[0;36m<module>\u001b[0;34m\u001b[0m\n\u001b[0;32m----> 1\u001b[0;31m train_model2(learning_rate=.0005,\n\u001b[0m\u001b[1;32m      2\u001b[0m         \u001b[0msteps\u001b[0m\u001b[0;34m=\u001b[0m\u001b[0;36m100\u001b[0m\u001b[0;34m,\u001b[0m\u001b[0;34m\u001b[0m\u001b[0;34m\u001b[0m\u001b[0m\n\u001b[1;32m      3\u001b[0m         \u001b[0mbatch_size\u001b[0m\u001b[0;34m=\u001b[0m\u001b[0;36m5\u001b[0m\u001b[0;34m,\u001b[0m\u001b[0;34m\u001b[0m\u001b[0;34m\u001b[0m\u001b[0m\n\u001b[1;32m      4\u001b[0m         \u001b[0minput_feature\u001b[0m\u001b[0;34m=\u001b[0m\u001b[0;34m'population'\u001b[0m\u001b[0;34m\u001b[0m\u001b[0;34m\u001b[0m\u001b[0m\n\u001b[1;32m      5\u001b[0m )\n",
      "\u001b[0;31mNameError\u001b[0m: name 'train_model2' is not defined"
     ]
    }
   ],
   "source": [
    "train_model2(learning_rate=.0005,\n",
    "        steps=100,\n",
    "        batch_size=5,\n",
    "        input_feature='population'\n",
    ")"
   ]
  },
  {
   "cell_type": "code",
   "execution_count": null,
   "metadata": {},
   "outputs": [],
   "source": []
  }
 ],
 "metadata": {
  "kernelspec": {
   "display_name": "Python 3",
   "language": "python",
   "name": "python3"
  },
  "language_info": {
   "codemirror_mode": {
    "name": "ipython",
    "version": 3
   },
   "file_extension": ".py",
   "mimetype": "text/x-python",
   "name": "python",
   "nbconvert_exporter": "python",
   "pygments_lexer": "ipython3",
   "version": "3.7.1"
  }
 },
 "nbformat": 4,
 "nbformat_minor": 2
}
